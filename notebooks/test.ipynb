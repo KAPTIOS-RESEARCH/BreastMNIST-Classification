{
 "cells": [
  {
   "cell_type": "code",
   "execution_count": 1,
   "id": "4f309c55",
   "metadata": {},
   "outputs": [],
   "source": [
    "import sys\n",
    "sys.path.insert(0, '..')\n",
    "from src.models.csnn import CSNN\n",
    "import torch.nn as nn\n",
    "from spikingjelly.activation_based import functional, surrogate, neuron, layer\n",
    "from src.models.base import BaseJellyNet\n",
    "import torch"
   ]
  },
  {
   "cell_type": "code",
   "execution_count": 2,
   "id": "c8d71731",
   "metadata": {},
   "outputs": [],
   "source": [
    "model = CSNN(img_size=128)"
   ]
  },
  {
   "cell_type": "code",
   "execution_count": 6,
   "id": "9b109720",
   "metadata": {},
   "outputs": [
    {
     "data": {
      "text/plain": [
       "2730"
      ]
     },
     "execution_count": 6,
     "metadata": {},
     "output_type": "execute_result"
    }
   ],
   "source": [
    "model.flattened_dim//6"
   ]
  },
  {
   "cell_type": "code",
   "execution_count": null,
   "id": "e88a86d8",
   "metadata": {},
   "outputs": [],
   "source": []
  }
 ],
 "metadata": {
  "kernelspec": {
   "display_name": "jelly-env",
   "language": "python",
   "name": "python3"
  },
  "language_info": {
   "codemirror_mode": {
    "name": "ipython",
    "version": 3
   },
   "file_extension": ".py",
   "mimetype": "text/x-python",
   "name": "python",
   "nbconvert_exporter": "python",
   "pygments_lexer": "ipython3",
   "version": "3.10.16"
  }
 },
 "nbformat": 4,
 "nbformat_minor": 5
}
