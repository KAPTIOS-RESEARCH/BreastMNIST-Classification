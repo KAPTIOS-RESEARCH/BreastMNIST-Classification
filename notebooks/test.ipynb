{
 "cells": [
  {
   "cell_type": "code",
   "execution_count": 1,
   "id": "4f309c55",
   "metadata": {},
   "outputs": [],
   "source": [
    "import sys\n",
    "sys.path.insert(0, '..')\n",
    "from src.data.loaders.BreastMNIST import  BreastMNISTDataloader\n",
    "from src.models.csnn import CSNN"
   ]
  },
  {
   "cell_type": "code",
   "execution_count": 2,
   "id": "ed7ace1f",
   "metadata": {},
   "outputs": [
    {
     "name": "stdout",
     "output_type": "stream",
     "text": [
      "Labels shape: torch.Size([8])\n",
      "Unique labels: tensor([0, 1])\n",
      "Labels shape: torch.Size([8])\n",
      "Unique labels: tensor([0, 1])\n",
      "Labels shape: torch.Size([8])\n",
      "Unique labels: tensor([0, 1])\n"
     ]
    }
   ],
   "source": [
    "batch_size = 64\n",
    "BreastMNIST = BreastMNISTDataloader(\"../data\", debug =True)\n",
    "\n",
    "kspace_train = BreastMNIST.train()\n",
    "kspace_test = BreastMNIST.test()\n",
    "kspace_val = BreastMNIST.val()"
   ]
  },
  {
   "cell_type": "code",
   "execution_count": 3,
   "id": "6758dbc9",
   "metadata": {},
   "outputs": [],
   "source": [
    "sample = next(iter(kspace_train))"
   ]
  },
  {
   "cell_type": "code",
   "execution_count": 4,
   "id": "d252fc06",
   "metadata": {},
   "outputs": [],
   "source": [
    "import torch\n",
    "x, y = sample"
   ]
  },
  {
   "cell_type": "code",
   "execution_count": 2,
   "id": "ed7ace1f",
   "metadata": {},
   "outputs": [
    {
     "name": "stdout",
     "output_type": "stream",
     "text": [
      "Labels shape: torch.Size([8])\n",
      "Unique labels: tensor([0, 1])\n",
      "Labels shape: torch.Size([8])\n",
      "Unique labels: tensor([0, 1])\n",
      "Labels shape: torch.Size([8])\n",
      "Unique labels: tensor([0, 1])\n"
     ]
    }
   ],
   "source": [
    "batch_size = 64\n",
    "BreastMNIST = BreastMNISTDataloader(\"../data\", debug =True)\n",
    "\n",
    "kspace_train = BreastMNIST.train()\n",
    "kspace_test = BreastMNIST.test()\n",
    "kspace_val = BreastMNIST.val()"
   ]
  }
 ],
 "metadata": {
  "kernelspec": {
   "display_name": "jelly-env",
   "language": "python",
   "name": "python3"
  },
  "language_info": {
   "codemirror_mode": {
    "name": "ipython",
    "version": 3
   },
   "file_extension": ".py",
   "mimetype": "text/x-python",
   "name": "python",
   "nbconvert_exporter": "python",
   "pygments_lexer": "ipython3",
   "version": "3.10.16"
  }
 },
 "nbformat": 4,
 "nbformat_minor": 5
}
