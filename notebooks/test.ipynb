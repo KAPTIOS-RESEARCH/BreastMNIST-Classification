{
 "cells": [
  {
   "cell_type": "code",
   "execution_count": 15,
   "id": "4f309c55",
   "metadata": {},
   "outputs": [],
   "source": [
    "import sys\n",
    "sys.path.insert(0, '..')\n",
    "from src.models.csnn import CSNN\n",
    "import torch.nn as nn\n",
    "from spikingjelly.activation_based import functional, surrogate, neuron, layer\n",
    "from src.models.base import BaseJellyNet\n",
    "import torch\n",
    "from src.data.loaders.medmnist import MedMNISTDataloader"
   ]
  },
  {
   "cell_type": "code",
   "execution_count": 26,
   "id": "6f4971ab",
   "metadata": {},
   "outputs": [],
   "source": [
    "dt = MedMNISTDataloader('../data', 'TissueMNIST', image_size=28)"
   ]
  },
  {
   "cell_type": "code",
   "execution_count": 27,
   "id": "59d7eb82",
   "metadata": {},
   "outputs": [],
   "source": [
    "td = dt.train()"
   ]
  },
  {
   "cell_type": "code",
   "execution_count": 28,
   "id": "761200a2",
   "metadata": {},
   "outputs": [],
   "source": [
    "sample = next(iter(td))"
   ]
  },
  {
   "cell_type": "code",
   "execution_count": 31,
   "id": "40122aa4",
   "metadata": {},
   "outputs": [
    {
     "data": {
      "text/plain": [
       "torch.int64"
      ]
     },
     "execution_count": 31,
     "metadata": {},
     "output_type": "execute_result"
    }
   ],
   "source": [
    "targets = sample[1]\n",
    "targets.dtype"
   ]
  },
  {
   "cell_type": "code",
   "execution_count": 32,
   "id": "75498b86",
   "metadata": {},
   "outputs": [],
   "source": [
    "import torch.nn.functional as F\n",
    "\n",
    "one_hot_targets = F.one_hot(targets, 8).float()"
   ]
  },
  {
   "cell_type": "code",
   "execution_count": 34,
   "id": "8c97021d",
   "metadata": {},
   "outputs": [
    {
     "data": {
      "text/plain": [
       "torch.Size([4, 1, 8])"
      ]
     },
     "execution_count": 34,
     "metadata": {},
     "output_type": "execute_result"
    }
   ],
   "source": [
    "one_hot_targets.shape"
   ]
  },
  {
   "cell_type": "code",
   "execution_count": null,
   "id": "ca14142e",
   "metadata": {},
   "outputs": [],
   "source": []
  }
 ],
 "metadata": {
  "kernelspec": {
   "display_name": "torch-env",
   "language": "python",
   "name": "python3"
  },
  "language_info": {
   "codemirror_mode": {
    "name": "ipython",
    "version": 3
   },
   "file_extension": ".py",
   "mimetype": "text/x-python",
   "name": "python",
   "nbconvert_exporter": "python",
   "pygments_lexer": "ipython3",
   "version": "3.10.4"
  }
 },
 "nbformat": 4,
 "nbformat_minor": 5
}
