{
 "cells": [
  {
   "cell_type": "code",
   "execution_count": 3,
   "id": "4f309c55",
   "metadata": {},
   "outputs": [],
   "source": [
    "import sys\n",
    "sys.path.insert(0, '..')\n",
    "from src.models.csnn import CSNN\n",
    "import torch.nn as nn\n",
    "from spikingjelly.activation_based import functional, surrogate, neuron, layer\n",
    "from src.models.base import BaseJellyNet\n",
    "import hiddenlayer as hl\n",
    "import torch"
   ]
  },
  {
   "cell_type": "code",
   "execution_count": 4,
   "id": "c8d71731",
   "metadata": {},
   "outputs": [],
   "source": [
    "model = CSNN(img_size=128)"
   ]
  },
  {
   "cell_type": "code",
   "execution_count": null,
   "id": "e88a86d8",
   "metadata": {},
   "outputs": [],
   "source": [
    "dummy_input = torch.randn((1, 128, 128))\n",
    "hl_graph = hl.build_graph(model, dummy_input)\n",
    "# Save the graph as a PNG\n",
    "hl_graph.save(\"model_graph\", format=\"png\")"
   ]
  }
 ],
 "metadata": {
  "kernelspec": {
   "display_name": "torch-env",
   "language": "python",
   "name": "python3"
  },
  "language_info": {
   "codemirror_mode": {
    "name": "ipython",
    "version": 3
   },
   "file_extension": ".py",
   "mimetype": "text/x-python",
   "name": "python",
   "nbconvert_exporter": "python",
   "pygments_lexer": "ipython3",
   "version": "3.10.16"
  }
 },
 "nbformat": 4,
 "nbformat_minor": 5
}
