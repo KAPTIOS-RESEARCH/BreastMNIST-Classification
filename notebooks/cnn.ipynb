{
 "cells": [
  {
   "cell_type": "markdown",
   "id": "198aba1e",
   "metadata": {},
   "source": [
    "# Basic CNN for MedMNIST Classification\n",
    "\n",
    "In this notebook, we provide a simple convolutional neural network (CNN) architecture tailored for MedMNIST, a lightweight medical image classification benchmark. The dataset offers a diverse range of biomedical images with varying modalities and tasks, making it suitable for quick prototyping and benchmarking.\n",
    "\n",
    "The goal of the notebook is to train, evaluate the model but also use it as a base to build a C-SNN (Convolutional Spiking Neural Network). We first establish a baseline CNN to understand the data distribution, learning behavior, and classification performance in a conventional setting. Once the CNN is trained and evaluated, we will extend this architecture into a spiking version using SpikingJelly, enabling bio-inspired temporal processing and energy-efficient inference on neuromorphic hardware."
   ]
  },
  {
   "cell_type": "markdown",
   "id": "3a8732a6",
   "metadata": {},
   "source": [
    "## Imports & Variables"
   ]
  },
  {
   "cell_type": "code",
   "execution_count": 175,
   "id": "b6921677",
   "metadata": {},
   "outputs": [
    {
     "name": "stdout",
     "output_type": "stream",
     "text": [
      "Using device: cuda\n"
     ]
    }
   ],
   "source": [
    "import sys, os\n",
    "sys.path.insert(0, '..')\n",
    "from torchsummary import summary\n",
    "import torch.nn as nn\n",
    "import torch\n",
    "import matplotlib.pyplot as plt\n",
    "import numpy as np\n",
    "from src.utils.config import instanciate_module\n",
    "from torch.utils.data import DataLoader, Dataset, WeightedRandomSampler, Subset\n",
    "from torchvision.transforms import ToTensor, Normalize, Compose, Grayscale\n",
    "from torchvision.datasets import CIFAR10\n",
    "from src.utils.device import get_available_device\n",
    "from tqdm import tqdm\n",
    "from torchmetrics import Accuracy\n",
    "\n",
    "output_dir = '../logs/saved_models'\n",
    "device = get_available_device()\n",
    "print(f'Using device:', device)\n",
    "\n",
    "os.makedirs(output_dir, exist_ok=True)\n",
    "\n",
    "def plot_results(train_accs, test_accs):\n",
    "    plt.figure(figsize=(10, 5))\n",
    "    plt.plot(train_accs, label='Train Accuracy', marker='o')\n",
    "    plt.plot(test_accs, label='Test Accuracy', marker='s')\n",
    "\n",
    "    plt.title('Train vs Test Accuracy over Epochs')\n",
    "    plt.xlabel('Epoch')\n",
    "    plt.ylabel('Accuracy')\n",
    "    plt.ylim(0, 1)\n",
    "    plt.legend()\n",
    "    plt.tight_layout()\n",
    "    plt.show()"
   ]
  },
  {
   "cell_type": "markdown",
   "id": "b12a1156",
   "metadata": {},
   "source": [
    "## Neural Network Architecture"
   ]
  },
  {
   "cell_type": "code",
   "execution_count": 111,
   "id": "e02b60d5",
   "metadata": {},
   "outputs": [],
   "source": [
    "import torch\n",
    "import torch.nn as nn\n",
    "\n",
    "class ConvBlock(nn.Module):\n",
    "    def __init__(self, in_channels: int, out_channels: int, kernel_size: int = 3, padding: int = 1):\n",
    "        super().__init__()\n",
    "        self.block = nn.Sequential(\n",
    "            nn.Conv2d(in_channels, out_channels,\n",
    "                      kernel_size=kernel_size, padding=padding, bias=False),\n",
    "            nn.BatchNorm2d(out_channels),\n",
    "            nn.ReLU(inplace=True),\n",
    "            nn.Dropout(0.2),\n",
    "\n",
    "            nn.Conv2d(out_channels, out_channels,\n",
    "                      kernel_size=kernel_size, padding=padding, bias=False),\n",
    "            nn.BatchNorm2d(out_channels),\n",
    "            nn.ReLU(inplace=True),\n",
    "            nn.Dropout(0.2),\n",
    "            nn.MaxPool2d(2, 2),\n",
    "        )\n",
    "\n",
    "    def forward(self, x):\n",
    "        return self.block(x)\n",
    "\n",
    "class CNN(nn.Module):\n",
    "    def __init__(self, in_channels: int = 1, out_channels: int = 2, base_channels: int = 32, img_size: int = 128, num_blocks: int = 3):\n",
    "        super().__init__()\n",
    "\n",
    "        conv_blocks = []\n",
    "        input_channels = in_channels\n",
    "        \n",
    "        for i in range(num_blocks):\n",
    "            output_channels = base_channels * (2 ** i)\n",
    "            conv_blocks.append(ConvBlock(input_channels, output_channels))\n",
    "            input_channels = output_channels\n",
    "\n",
    "        self.net = nn.Sequential(*conv_blocks)\n",
    "\n",
    "        self.flattened_dim = self._get_flattened_shape((in_channels, img_size, img_size))\n",
    "\n",
    "        self.classifier = nn.Sequential(\n",
    "            nn.Flatten(),\n",
    "            nn.Linear(self.flattened_dim, self.flattened_dim // 3, bias=False),\n",
    "            nn.ReLU(inplace=True),\n",
    "            nn.Dropout(0.5),\n",
    "            nn.Linear(self.flattened_dim // 3, out_channels, bias=False),\n",
    "        )\n",
    "\n",
    "    def _get_flattened_shape(self, input_shape):\n",
    "        with torch.no_grad():\n",
    "            dummy = torch.zeros(1, *input_shape)\n",
    "            dummy = self.net(dummy)\n",
    "            return dummy.numel()\n",
    "\n",
    "    def forward(self, x):\n",
    "        x = self.net(x)\n",
    "        x = self.classifier(x)\n",
    "        return x\n"
   ]
  },
  {
   "cell_type": "code",
   "execution_count": 114,
   "id": "efdfb0eb",
   "metadata": {},
   "outputs": [
    {
     "name": "stdout",
     "output_type": "stream",
     "text": [
      "----------------------------------------------------------------\n",
      "        Layer (type)               Output Shape         Param #\n",
      "================================================================\n",
      "            Conv2d-1           [-1, 32, 28, 28]             288\n",
      "       BatchNorm2d-2           [-1, 32, 28, 28]              64\n",
      "              ReLU-3           [-1, 32, 28, 28]               0\n",
      "           Dropout-4           [-1, 32, 28, 28]               0\n",
      "            Conv2d-5           [-1, 32, 28, 28]           9,216\n",
      "       BatchNorm2d-6           [-1, 32, 28, 28]              64\n",
      "              ReLU-7           [-1, 32, 28, 28]               0\n",
      "           Dropout-8           [-1, 32, 28, 28]               0\n",
      "         MaxPool2d-9           [-1, 32, 14, 14]               0\n",
      "        ConvBlock-10           [-1, 32, 14, 14]               0\n",
      "           Conv2d-11           [-1, 64, 14, 14]          18,432\n",
      "      BatchNorm2d-12           [-1, 64, 14, 14]             128\n",
      "             ReLU-13           [-1, 64, 14, 14]               0\n",
      "          Dropout-14           [-1, 64, 14, 14]               0\n",
      "           Conv2d-15           [-1, 64, 14, 14]          36,864\n",
      "      BatchNorm2d-16           [-1, 64, 14, 14]             128\n",
      "             ReLU-17           [-1, 64, 14, 14]               0\n",
      "          Dropout-18           [-1, 64, 14, 14]               0\n",
      "        MaxPool2d-19             [-1, 64, 7, 7]               0\n",
      "        ConvBlock-20             [-1, 64, 7, 7]               0\n",
      "           Conv2d-21            [-1, 128, 7, 7]          73,728\n",
      "      BatchNorm2d-22            [-1, 128, 7, 7]             256\n",
      "             ReLU-23            [-1, 128, 7, 7]               0\n",
      "          Dropout-24            [-1, 128, 7, 7]               0\n",
      "           Conv2d-25            [-1, 128, 7, 7]         147,456\n",
      "      BatchNorm2d-26            [-1, 128, 7, 7]             256\n",
      "             ReLU-27            [-1, 128, 7, 7]               0\n",
      "          Dropout-28            [-1, 128, 7, 7]               0\n",
      "        MaxPool2d-29            [-1, 128, 3, 3]               0\n",
      "        ConvBlock-30            [-1, 128, 3, 3]               0\n",
      "          Flatten-31                 [-1, 1152]               0\n",
      "           Linear-32                  [-1, 384]         442,368\n",
      "             ReLU-33                  [-1, 384]               0\n",
      "          Dropout-34                  [-1, 384]               0\n",
      "           Linear-35                   [-1, 10]           3,840\n",
      "================================================================\n",
      "Total params: 733,088\n",
      "Trainable params: 733,088\n",
      "Non-trainable params: 0\n",
      "----------------------------------------------------------------\n",
      "Input size (MB): 0.00\n",
      "Forward/backward pass size (MB): 2.86\n",
      "Params size (MB): 2.80\n",
      "Estimated Total Size (MB): 5.66\n",
      "----------------------------------------------------------------\n"
     ]
    }
   ],
   "source": [
    "model = CNN(in_channels=1, out_channels=10, base_channels=32, num_blocks=3, img_size=28)\n",
    "summary(model, (1, 28, 28), device='cpu')"
   ]
  },
  {
   "cell_type": "markdown",
   "id": "ef0c8b21",
   "metadata": {},
   "source": [
    "## Datasets & Dataloaders\n",
    "\n",
    "In this section, we prepare the datasets and dataloaders required for training and evaluation.\n",
    "\n",
    "We begin by creating a PyTorch CIFAR10 dataset using ```torchvision.datasets```. This serves as a benchmark dataset to pretrain and test our baseline CNN. **CIFAR10** is widely used in the computer vision community, which allows us to compare the performance of our model against established CNN architectures and training routines. By starting with CIFAR10, we ensure that the CNN is functioning properly before moving to more domain-specific datasets. To also fit the nature of the next datasets and have a proper comparison with C-SNN, we use a grayscale version of CIFAR10 in these experiments.\n",
    "\n",
    "Next, we set up the **MedMNIST** dataset using the ```medmnist``` library, which provides a unified interface for multiple lightweight biomedical image classification tasks. We wrap the MedMNIST dataset into a PyTorch-compatible format, applying appropriate transforms to standardize the data and match the input requirements of our model. This global MedMNIST dataset will be used to fine-tune or retrain our model after the initial evaluation on CIFAR10, and eventually transition to a spiking version of the network for biomedical applications.\n",
    "\n",
    "### CIFAR10"
   ]
  },
  {
   "cell_type": "code",
   "execution_count": 115,
   "id": "5013172f",
   "metadata": {},
   "outputs": [],
   "source": [
    "class CIFAR10DataLoader(object):\n",
    "    def __init__(self,\n",
    "                 data_dir: str,\n",
    "                 batch_size: int = 4,\n",
    "                 num_workers: int = 4):\n",
    "\n",
    "        super(CIFAR10DataLoader, self).__init__()\n",
    "        self.data_dir = data_dir\n",
    "        self.batch_size = batch_size\n",
    "        self.num_workers = num_workers\n",
    "\n",
    "        self.transform = Compose([\n",
    "            Grayscale(),\n",
    "            ToTensor(),\n",
    "            Normalize((0,), (1,))\n",
    "        ])\n",
    "\n",
    "    def train(self):\n",
    "        train_dataset = CIFAR10(\n",
    "            root=self.data_dir,\n",
    "            train=True,\n",
    "            transform=self.transform,\n",
    "            download=True\n",
    "        )\n",
    "\n",
    "        dataloader = DataLoader(train_dataset,\n",
    "                                batch_size=self.batch_size,\n",
    "                                num_workers=self.num_workers,\n",
    "                                shuffle=True,\n",
    "                                pin_memory=True)\n",
    "        return dataloader\n",
    "\n",
    "    def val(self):\n",
    "        val_dataset = CIFAR10(\n",
    "            root=self.data_dir,\n",
    "            train=False,\n",
    "            transform=self.transform,\n",
    "            download=True\n",
    "        )\n",
    "\n",
    "        dataloader = DataLoader(val_dataset,\n",
    "                                batch_size=self.batch_size,\n",
    "                                num_workers=self.num_workers,\n",
    "                                shuffle=False,\n",
    "                                pin_memory=True)\n",
    "        return dataloader\n",
    "\n",
    "    def test(self):\n",
    "        return self.val()\n",
    "\n",
    "x, y = next(iter(CIFAR10DataLoader(data_dir='../data').train()))"
   ]
  },
  {
   "cell_type": "code",
   "execution_count": 116,
   "id": "4d0a697e",
   "metadata": {},
   "outputs": [
    {
     "data": {
      "image/png": "[encoded data removed]",
      "text/plain": [
       "<Figure size 640x480 with 1 Axes>"
      ]
     },
     "metadata": {},
     "output_type": "display_data"
    }
   ],
   "source": [
    "img = x[0][0]\n",
    "img = (img - img.min()) / (img.max() - img.min())\n",
    "\n",
    "plt.imshow(img, cmap='gray')\n",
    "plt.axis('off')\n",
    "plt.title(f'Label: {y[0]}')\n",
    "plt.show()"
   ]
  },
  {
   "cell_type": "markdown",
   "id": "b2cd31ae",
   "metadata": {},
   "source": [
    "### MedMNIST\n",
    "\n",
    "We first implement a global dataset class that will allow us to load any dataset in the medmnist library."
   ]
  },
  {
   "cell_type": "code",
   "execution_count": 117,
   "id": "241e4322",
   "metadata": {},
   "outputs": [],
   "source": [
    "class MedMNISTDataset(Dataset):\n",
    "    \"\"\"\n",
    "    PyTorch Dataset wrapper for MedMNIST datasets using dynamic instantiation.\n",
    "    \"\"\"\n",
    "\n",
    "    def __init__(\n",
    "        self,\n",
    "        data_dir: str,\n",
    "        dataset_name: str = 'BreastMNIST',\n",
    "        image_size: int = 128,\n",
    "        split: str = 'train',\n",
    "        transform=None\n",
    "    ):\n",
    "        self.transform = transform or Compose([\n",
    "            ToTensor(),\n",
    "            Normalize((0,), (1,))\n",
    "        ])\n",
    "\n",
    "        self.dataset = instanciate_module(\n",
    "            module_name='medmnist',\n",
    "            class_name=dataset_name,\n",
    "            params={\n",
    "                \"root\": data_dir,\n",
    "                \"download\": True,\n",
    "                \"transform\": self.transform,\n",
    "                \"size\": image_size,\n",
    "                \"split\": split,\n",
    "            }\n",
    "        )\n",
    "\n",
    "    def __len__(self) -> int:\n",
    "        return len(self.dataset)\n",
    "\n",
    "    def __getitem__(self, idx: int):\n",
    "        x, y = self.dataset[idx]\n",
    "        return x, y.squeeze(0)"
   ]
  },
  {
   "cell_type": "markdown",
   "id": "54181751",
   "metadata": {},
   "source": [
    "We then create a dataloader object to load these datasets. Note that a random weighted sampler is used for the training split of each dataset to avoid imbalance and biases during training."
   ]
  },
  {
   "cell_type": "code",
   "execution_count": 118,
   "id": "f4df3b27",
   "metadata": {},
   "outputs": [],
   "source": [
    "class MedMNISTDataloader(object):\n",
    "    def __init__(self,\n",
    "                 data_dir: str,\n",
    "                 dataset_name: str = 'BreastMNIST',\n",
    "                 batch_size: int = 4,\n",
    "                 num_workers: int = 4,\n",
    "                 image_size: int = 128,\n",
    "                 debug: bool = True):\n",
    "\n",
    "        super(MedMNISTDataloader, self).__init__()\n",
    "        self.data_dir = data_dir\n",
    "        self.dataset_name = dataset_name\n",
    "        self.debug = debug\n",
    "        self.batch_size = batch_size\n",
    "        self.num_workers = num_workers\n",
    "        self.image_size = image_size\n",
    "\n",
    "    def _create_random_sampler(self, dataset):\n",
    "        labels = np.array([label for _, label in dataset])\n",
    "        if labels.ndim > 1:\n",
    "            labels = labels.flatten()\n",
    "        labels = torch.tensor(labels, dtype=torch.int64)\n",
    "        class_counts = torch.bincount(labels)\n",
    "        class_weights = 1.0 / class_counts.float()\n",
    "        sampler_weights = [class_weights[label] for _, label in dataset]\n",
    "        sampler = WeightedRandomSampler(\n",
    "            weights=sampler_weights, num_samples=len(dataset), replacement=True)\n",
    "        return sampler\n",
    "\n",
    "    \n",
    "    def train(self):\n",
    "        train_dataset = MedMNISTDataset(\n",
    "            self.data_dir,\n",
    "            self.dataset_name,\n",
    "            self.image_size,\n",
    "            split=\"train\"\n",
    "        )\n",
    "\n",
    "        if self.debug:\n",
    "            train_dataset = Subset(\n",
    "                train_dataset, range(self.batch_size * 1000))\n",
    "\n",
    "        random_sampler = self._create_random_sampler(train_dataset)\n",
    "\n",
    "        return DataLoader(train_dataset, sampler=random_sampler, batch_size=self.batch_size, num_workers=self.num_workers, pin_memory=True if torch.cuda.is_available() else False)\n",
    "\n",
    "    def val(self):\n",
    "        val_dataset = MedMNISTDataset(\n",
    "            self.data_dir,\n",
    "            self.dataset_name,\n",
    "            self.image_size,\n",
    "            split=\"val\"\n",
    "        )\n",
    "        if self.debug:\n",
    "            val_dataset = Subset(val_dataset, range(self.batch_size * 2))\n",
    "\n",
    "        return DataLoader(val_dataset, batch_size=self.batch_size, num_workers=self.num_workers, pin_memory=True if torch.cuda.is_available() else False)\n",
    "\n",
    "    def test(self):\n",
    "        test_dataset = MedMNISTDataset(\n",
    "            self.data_dir,\n",
    "            self.dataset_name,\n",
    "            self.image_size,\n",
    "            split=\"test\"\n",
    "        )\n",
    "        if self.debug:\n",
    "            test_dataset = Subset(test_dataset, range(self.batch_size * 2))\n",
    "\n",
    "        return DataLoader(test_dataset, batch_size=self.batch_size, num_workers=self.num_workers, pin_memory=True if torch.cuda.is_available() else False)"
   ]
  },
  {
   "cell_type": "code",
   "execution_count": 119,
   "id": "d16e41bc",
   "metadata": {},
   "outputs": [
    {
     "data": {
      "image/png": "[encoded data removed]",
      "text/plain": [
       "<Figure size 640x480 with 1 Axes>"
      ]
     },
     "metadata": {},
     "output_type": "display_data"
    }
   ],
   "source": [
    "x, y = next(iter(MedMNISTDataloader(data_dir='../data', dataset_name='TissueMNIST', image_size=28).train()))\n",
    "img = x[0].permute(1, 2, 0).numpy()\n",
    "img = (img - img.min()) / (img.max() - img.min())\n",
    "\n",
    "plt.imshow(img)\n",
    "plt.axis('off')\n",
    "plt.title(f'Label: {y[0]}')\n",
    "plt.show()"
   ]
  },
  {
   "cell_type": "markdown",
   "id": "e0dc3ce6",
   "metadata": {},
   "source": [
    "## Training the CNN\n",
    "\n",
    "Here, we define a standard training and evaluation loop. The loop includes both the forward and backward passes, loss computation, weight updates via backpropagation, and performance tracking in terms of accuracy and loss.\n",
    "\n",
    "### CIFAR10\n",
    "\n",
    "For the CIFAR10 example, we use the Adam optimizer and a CrossEntropyLoss function."
   ]
  },
  {
   "cell_type": "code",
   "execution_count": 202,
   "id": "8dd46854",
   "metadata": {},
   "outputs": [],
   "source": [
    "n_epochs = 50\n",
    "batch_size = 64\n",
    "n_workers = 8\n",
    "net = CNN(in_channels=1, out_channels=10, base_channels=32, num_blocks=3, img_size=32)\n",
    "net.to(device);\n",
    "criterion = nn.CrossEntropyLoss()\n",
    "optimizer = torch.optim.Adam(net.parameters(), lr=0.0001)\n",
    "metric = Accuracy(task=\"multiclass\", num_classes=10).to(device)\n",
    "scheduler = torch.optim.lr_scheduler.CosineAnnealingLR(optimizer, T_max=n_epochs)"
   ]
  },
  {
   "cell_type": "code",
   "execution_count": 203,
   "id": "6b308893",
   "metadata": {},
   "outputs": [],
   "source": [
    "def train(model, train_loader):\n",
    "    model.train()\n",
    "    train_loss = 0.0\n",
    "    all_preds = []\n",
    "    all_targets = []\n",
    "    with tqdm(train_loader, leave=False, desc=\"Running training phase\") as pbar:\n",
    "        for sample in train_loader:\n",
    "            data, targets = sample\n",
    "            data, targets = data.to(device), targets.to(device)\n",
    "            optimizer.zero_grad()\n",
    "            outputs = model(data)\n",
    "            loss = criterion(outputs, targets)\n",
    "            loss.backward()\n",
    "            optimizer.step()\n",
    "            train_loss += loss.item()\n",
    "            all_preds.append(outputs)\n",
    "            all_targets.append(targets)\n",
    "            pbar.update(1)\n",
    "    all_targets = torch.cat(all_targets)\n",
    "    all_preds = torch.cat(all_preds)\n",
    "    train_loss /= len(train_loader)\n",
    "    return train_loss, all_preds, all_targets\n",
    "\n",
    "def test(model, val_loader):\n",
    "    model.eval()\n",
    "    test_loss = 0.0\n",
    "    all_preds = []\n",
    "    all_targets = []\n",
    "    with torch.no_grad():\n",
    "        with tqdm(val_loader, leave=False, desc=\"Running testing phase\") as pbar:\n",
    "            for _, sample in enumerate(val_loader):\n",
    "                data, targets = sample\n",
    "                data, targets = data.to(\n",
    "                    device), targets.to(device)\n",
    "                outputs = model(data)\n",
    "                loss = criterion(outputs, targets)\n",
    "                test_loss += loss.item()\n",
    "                all_preds.append(outputs)\n",
    "                all_targets.append(targets)\n",
    "                pbar.update(1)\n",
    "\n",
    "    all_targets = torch.cat(all_targets)\n",
    "    all_preds = torch.cat(all_preds)\n",
    "    test_loss /= len(val_loader)\n",
    "    return test_loss, all_preds, all_targets"
   ]
  },
  {
   "cell_type": "code",
   "execution_count": 219,
   "id": "6192ebc6",
   "metadata": {},
   "outputs": [],
   "source": [
    "def run_experiment(net, n_epochs, train_loader, val_loader):\n",
    "    train_losses, test_losses, train_accs, test_accs = [], [], [], []\n",
    "    best_acc = 0.0\n",
    "\n",
    "    for epoch in range(n_epochs):\n",
    "        train_loss, train_preds, train_targets = train(net, train_loader)\n",
    "        test_loss, test_preds, test_targets = test(net, val_loader)\n",
    "        train_acc, test_acc = metric(train_preds.argmax(dim=1).cpu(), train_targets.cpu()), metric(test_preds.argmax(dim=1).cpu(), test_targets.cpu())\n",
    "        \n",
    "        train_losses.append(train_loss)\n",
    "        test_losses.append(test_loss)\n",
    "        train_accs.append(train_acc)\n",
    "        test_accs.append(test_acc)\n",
    "        \n",
    "        if test_acc > best_acc:\n",
    "            best_acc = test_acc\n",
    "            model_object = {\n",
    "                'losses': np.array([train_losses, test_losses]),\n",
    "                'accuracies': np.array([train_accs, test_accs]),\n",
    "                'weights': model.state_dict(),\n",
    "                'epochs': n_epochs\n",
    "            }\n",
    "            torch.save(model_object, os.path.join(output_dir, 'cifar10_grayscale_cnn.pth'))\n",
    "        \n",
    "        print(f\"Epoch {epoch + 1} / {n_epochs} - Train/Test Loss : {train_loss:.4f} | {test_loss:.4f} - Train/Test Acc : {train_acc:.2f} | {test_acc:.2f}\")\n",
    "    \n",
    "    return train_losses, test_losses, train_accs, test_accs"
   ]
  },
  {
   "cell_type": "code",
   "execution_count": 126,
   "id": "0a58ab88",
   "metadata": {},
   "outputs": [
    {
     "name": "stderr",
     "output_type": "stream",
     "text": [
      "                                                                          \r"
     ]
    },
    {
     "name": "stdout",
     "output_type": "stream",
     "text": [
      "Epoch 1 / 50 - Train/Test Loss : 1.7073 | 1.9222 - Train/Test Acc : 0.38 | 0.34\n"
     ]
    },
    {
     "name": "stderr",
     "output_type": "stream",
     "text": [
      "                                                                          \r"
     ]
    },
    {
     "name": "stdout",
     "output_type": "stream",
     "text": [
      "Epoch 2 / 50 - Train/Test Loss : 1.3133 | 1.6855 - Train/Test Acc : 0.54 | 0.42\n"
     ]
    },
    {
     "name": "stderr",
     "output_type": "stream",
     "text": [
      "                                                                          \r"
     ]
    },
    {
     "name": "stdout",
     "output_type": "stream",
     "text": [
      "Epoch 3 / 50 - Train/Test Loss : 1.1202 | 1.2573 - Train/Test Acc : 0.60 | 0.56\n"
     ]
    },
    {
     "name": "stderr",
     "output_type": "stream",
     "text": [
      "                                                                          \r"
     ]
    },
    {
     "name": "stdout",
     "output_type": "stream",
     "text": [
      "Epoch 4 / 50 - Train/Test Loss : 0.9962 | 1.1602 - Train/Test Acc : 0.65 | 0.60\n"
     ]
    },
    {
     "name": "stderr",
     "output_type": "stream",
     "text": [
      "                                                                          \r"
     ]
    },
    {
     "name": "stdout",
     "output_type": "stream",
     "text": [
      "Epoch 5 / 50 - Train/Test Loss : 0.9048 | 1.0581 - Train/Test Acc : 0.68 | 0.63\n"
     ]
    },
    {
     "name": "stderr",
     "output_type": "stream",
     "text": [
      "                                                                          \r"
     ]
    },
    {
     "name": "stdout",
     "output_type": "stream",
     "text": [
      "Epoch 6 / 50 - Train/Test Loss : 0.8423 | 1.0491 - Train/Test Acc : 0.71 | 0.64\n"
     ]
    },
    {
     "name": "stderr",
     "output_type": "stream",
     "text": [
      "                                                                          \r"
     ]
    },
    {
     "name": "stdout",
     "output_type": "stream",
     "text": [
      "Epoch 7 / 50 - Train/Test Loss : 0.7909 | 0.8926 - Train/Test Acc : 0.72 | 0.69\n"
     ]
    },
    {
     "name": "stderr",
     "output_type": "stream",
     "text": [
      "                                                                          \r"
     ]
    },
    {
     "name": "stdout",
     "output_type": "stream",
     "text": [
      "Epoch 8 / 50 - Train/Test Loss : 0.7492 | 0.8490 - Train/Test Acc : 0.74 | 0.71\n"
     ]
    },
    {
     "name": "stderr",
     "output_type": "stream",
     "text": [
      "                                                                          \r"
     ]
    },
    {
     "name": "stdout",
     "output_type": "stream",
     "text": [
      "Epoch 9 / 50 - Train/Test Loss : 0.7113 | 0.7872 - Train/Test Acc : 0.75 | 0.73\n"
     ]
    },
    {
     "name": "stderr",
     "output_type": "stream",
     "text": [
      "                                                                          \r"
     ]
    },
    {
     "name": "stdout",
     "output_type": "stream",
     "text": [
      "Epoch 10 / 50 - Train/Test Loss : 0.6798 | 0.7826 - Train/Test Acc : 0.76 | 0.73\n"
     ]
    },
    {
     "name": "stderr",
     "output_type": "stream",
     "text": [
      "                                                                          \r"
     ]
    },
    {
     "name": "stdout",
     "output_type": "stream",
     "text": [
      "Epoch 11 / 50 - Train/Test Loss : 0.6530 | 0.7145 - Train/Test Acc : 0.77 | 0.76\n"
     ]
    },
    {
     "name": "stderr",
     "output_type": "stream",
     "text": [
      "                                                                          \r"
     ]
    },
    {
     "name": "stdout",
     "output_type": "stream",
     "text": [
      "Epoch 12 / 50 - Train/Test Loss : 0.6242 | 0.7825 - Train/Test Acc : 0.78 | 0.73\n"
     ]
    },
    {
     "name": "stderr",
     "output_type": "stream",
     "text": [
      "                                                                          \r"
     ]
    },
    {
     "name": "stdout",
     "output_type": "stream",
     "text": [
      "Epoch 13 / 50 - Train/Test Loss : 0.6004 | 0.7692 - Train/Test Acc : 0.79 | 0.74\n"
     ]
    },
    {
     "name": "stderr",
     "output_type": "stream",
     "text": [
      "                                                                          \r"
     ]
    },
    {
     "name": "stdout",
     "output_type": "stream",
     "text": [
      "Epoch 14 / 50 - Train/Test Loss : 0.5762 | 0.7154 - Train/Test Acc : 0.80 | 0.76\n"
     ]
    },
    {
     "name": "stderr",
     "output_type": "stream",
     "text": [
      "                                                                          \r"
     ]
    },
    {
     "name": "stdout",
     "output_type": "stream",
     "text": [
      "Epoch 15 / 50 - Train/Test Loss : 0.5549 | 0.7097 - Train/Test Acc : 0.80 | 0.76\n"
     ]
    },
    {
     "name": "stderr",
     "output_type": "stream",
     "text": [
      "                                                                          \r"
     ]
    },
    {
     "name": "stdout",
     "output_type": "stream",
     "text": [
      "Epoch 16 / 50 - Train/Test Loss : 0.5325 | 0.7456 - Train/Test Acc : 0.81 | 0.75\n"
     ]
    },
    {
     "name": "stderr",
     "output_type": "stream",
     "text": [
      "                                                                          \r"
     ]
    },
    {
     "name": "stdout",
     "output_type": "stream",
     "text": [
      "Epoch 17 / 50 - Train/Test Loss : 0.5136 | 0.7690 - Train/Test Acc : 0.82 | 0.74\n"
     ]
    },
    {
     "name": "stderr",
     "output_type": "stream",
     "text": [
      "                                                                          \r"
     ]
    },
    {
     "name": "stdout",
     "output_type": "stream",
     "text": [
      "Epoch 18 / 50 - Train/Test Loss : 0.4984 | 0.6240 - Train/Test Acc : 0.82 | 0.79\n"
     ]
    },
    {
     "name": "stderr",
     "output_type": "stream",
     "text": [
      "                                                                          \r"
     ]
    },
    {
     "name": "stdout",
     "output_type": "stream",
     "text": [
      "Epoch 19 / 50 - Train/Test Loss : 0.4826 | 0.7018 - Train/Test Acc : 0.83 | 0.76\n"
     ]
    },
    {
     "name": "stderr",
     "output_type": "stream",
     "text": [
      "                                                                          \r"
     ]
    },
    {
     "name": "stdout",
     "output_type": "stream",
     "text": [
      "Epoch 20 / 50 - Train/Test Loss : 0.4702 | 0.6898 - Train/Test Acc : 0.84 | 0.77\n"
     ]
    },
    {
     "name": "stderr",
     "output_type": "stream",
     "text": [
      "                                                                          \r"
     ]
    },
    {
     "name": "stdout",
     "output_type": "stream",
     "text": [
      "Epoch 21 / 50 - Train/Test Loss : 0.4598 | 0.6467 - Train/Test Acc : 0.84 | 0.78\n"
     ]
    },
    {
     "name": "stderr",
     "output_type": "stream",
     "text": [
      "                                                                          \r"
     ]
    },
    {
     "name": "stdout",
     "output_type": "stream",
     "text": [
      "Epoch 22 / 50 - Train/Test Loss : 0.4398 | 0.6844 - Train/Test Acc : 0.84 | 0.77\n"
     ]
    },
    {
     "name": "stderr",
     "output_type": "stream",
     "text": [
      "                                                                          \r"
     ]
    },
    {
     "name": "stdout",
     "output_type": "stream",
     "text": [
      "Epoch 23 / 50 - Train/Test Loss : 0.4295 | 0.6266 - Train/Test Acc : 0.85 | 0.79\n"
     ]
    },
    {
     "name": "stderr",
     "output_type": "stream",
     "text": [
      "                                                                          \r"
     ]
    },
    {
     "name": "stdout",
     "output_type": "stream",
     "text": [
      "Epoch 24 / 50 - Train/Test Loss : 0.4123 | 0.6717 - Train/Test Acc : 0.85 | 0.78\n"
     ]
    },
    {
     "name": "stderr",
     "output_type": "stream",
     "text": [
      "                                                                          \r"
     ]
    },
    {
     "name": "stdout",
     "output_type": "stream",
     "text": [
      "Epoch 25 / 50 - Train/Test Loss : 0.4047 | 0.6269 - Train/Test Acc : 0.86 | 0.79\n"
     ]
    },
    {
     "name": "stderr",
     "output_type": "stream",
     "text": [
      "                                                                          \r"
     ]
    },
    {
     "name": "stdout",
     "output_type": "stream",
     "text": [
      "Epoch 26 / 50 - Train/Test Loss : 0.3932 | 0.6245 - Train/Test Acc : 0.86 | 0.79\n"
     ]
    },
    {
     "name": "stderr",
     "output_type": "stream",
     "text": [
      "                                                                          \r"
     ]
    },
    {
     "name": "stdout",
     "output_type": "stream",
     "text": [
      "Epoch 27 / 50 - Train/Test Loss : 0.3843 | 0.6599 - Train/Test Acc : 0.86 | 0.78\n"
     ]
    },
    {
     "name": "stderr",
     "output_type": "stream",
     "text": [
      "                                                                          \r"
     ]
    },
    {
     "name": "stdout",
     "output_type": "stream",
     "text": [
      "Epoch 28 / 50 - Train/Test Loss : 0.3725 | 0.6659 - Train/Test Acc : 0.87 | 0.79\n"
     ]
    },
    {
     "name": "stderr",
     "output_type": "stream",
     "text": [
      "                                                                          \r"
     ]
    },
    {
     "name": "stdout",
     "output_type": "stream",
     "text": [
      "Epoch 29 / 50 - Train/Test Loss : 0.3625 | 0.6403 - Train/Test Acc : 0.87 | 0.79\n"
     ]
    },
    {
     "name": "stderr",
     "output_type": "stream",
     "text": [
      "                                                                          \r"
     ]
    },
    {
     "name": "stdout",
     "output_type": "stream",
     "text": [
      "Epoch 30 / 50 - Train/Test Loss : 0.3517 | 0.6707 - Train/Test Acc : 0.88 | 0.78\n"
     ]
    },
    {
     "name": "stderr",
     "output_type": "stream",
     "text": [
      "                                                                          \r"
     ]
    },
    {
     "name": "stdout",
     "output_type": "stream",
     "text": [
      "Epoch 31 / 50 - Train/Test Loss : 0.3441 | 0.6134 - Train/Test Acc : 0.88 | 0.79\n"
     ]
    },
    {
     "name": "stderr",
     "output_type": "stream",
     "text": [
      "                                                                          \r"
     ]
    },
    {
     "name": "stdout",
     "output_type": "stream",
     "text": [
      "Epoch 32 / 50 - Train/Test Loss : 0.3367 | 0.6053 - Train/Test Acc : 0.88 | 0.80\n"
     ]
    },
    {
     "name": "stderr",
     "output_type": "stream",
     "text": [
      "                                                                          \r"
     ]
    },
    {
     "name": "stdout",
     "output_type": "stream",
     "text": [
      "Epoch 33 / 50 - Train/Test Loss : 0.3235 | 0.6342 - Train/Test Acc : 0.89 | 0.79\n"
     ]
    },
    {
     "name": "stderr",
     "output_type": "stream",
     "text": [
      "                                                                          \r"
     ]
    },
    {
     "name": "stdout",
     "output_type": "stream",
     "text": [
      "Epoch 34 / 50 - Train/Test Loss : 0.3252 | 0.6740 - Train/Test Acc : 0.88 | 0.78\n"
     ]
    },
    {
     "name": "stderr",
     "output_type": "stream",
     "text": [
      "                                                                          \r"
     ]
    },
    {
     "name": "stdout",
     "output_type": "stream",
     "text": [
      "Epoch 35 / 50 - Train/Test Loss : 0.3081 | 0.6444 - Train/Test Acc : 0.89 | 0.79\n"
     ]
    },
    {
     "name": "stderr",
     "output_type": "stream",
     "text": [
      "                                                                          \r"
     ]
    },
    {
     "name": "stdout",
     "output_type": "stream",
     "text": [
      "Epoch 36 / 50 - Train/Test Loss : 0.3009 | 0.6350 - Train/Test Acc : 0.89 | 0.79\n"
     ]
    },
    {
     "name": "stderr",
     "output_type": "stream",
     "text": [
      "                                                                          \r"
     ]
    },
    {
     "name": "stdout",
     "output_type": "stream",
     "text": [
      "Epoch 37 / 50 - Train/Test Loss : 0.2962 | 0.5907 - Train/Test Acc : 0.89 | 0.80\n"
     ]
    },
    {
     "name": "stderr",
     "output_type": "stream",
     "text": [
      "                                                                          \r"
     ]
    },
    {
     "name": "stdout",
     "output_type": "stream",
     "text": [
      "Epoch 38 / 50 - Train/Test Loss : 0.2903 | 0.5910 - Train/Test Acc : 0.90 | 0.81\n"
     ]
    },
    {
     "name": "stderr",
     "output_type": "stream",
     "text": [
      "                                                                          \r"
     ]
    },
    {
     "name": "stdout",
     "output_type": "stream",
     "text": [
      "Epoch 39 / 50 - Train/Test Loss : 0.2783 | 0.5987 - Train/Test Acc : 0.90 | 0.80\n"
     ]
    },
    {
     "name": "stderr",
     "output_type": "stream",
     "text": [
      "                                                                          \r"
     ]
    },
    {
     "name": "stdout",
     "output_type": "stream",
     "text": [
      "Epoch 40 / 50 - Train/Test Loss : 0.2719 | 0.5887 - Train/Test Acc : 0.90 | 0.81\n"
     ]
    },
    {
     "name": "stderr",
     "output_type": "stream",
     "text": [
      "                                                                          \r"
     ]
    },
    {
     "name": "stdout",
     "output_type": "stream",
     "text": [
      "Epoch 41 / 50 - Train/Test Loss : 0.2686 | 0.6016 - Train/Test Acc : 0.90 | 0.81\n"
     ]
    },
    {
     "name": "stderr",
     "output_type": "stream",
     "text": [
      "                                                                          \r"
     ]
    },
    {
     "name": "stdout",
     "output_type": "stream",
     "text": [
      "Epoch 42 / 50 - Train/Test Loss : 0.2561 | 0.5880 - Train/Test Acc : 0.91 | 0.81\n"
     ]
    },
    {
     "name": "stderr",
     "output_type": "stream",
     "text": [
      "                                                                          \r"
     ]
    },
    {
     "name": "stdout",
     "output_type": "stream",
     "text": [
      "Epoch 43 / 50 - Train/Test Loss : 0.2556 | 0.5924 - Train/Test Acc : 0.91 | 0.81\n"
     ]
    },
    {
     "name": "stderr",
     "output_type": "stream",
     "text": [
      "                                                                          \r"
     ]
    },
    {
     "name": "stdout",
     "output_type": "stream",
     "text": [
      "Epoch 44 / 50 - Train/Test Loss : 0.2446 | 0.5828 - Train/Test Acc : 0.91 | 0.81\n"
     ]
    },
    {
     "name": "stderr",
     "output_type": "stream",
     "text": [
      "                                                                          \r"
     ]
    },
    {
     "name": "stdout",
     "output_type": "stream",
     "text": [
      "Epoch 45 / 50 - Train/Test Loss : 0.2456 | 0.6287 - Train/Test Acc : 0.91 | 0.80\n"
     ]
    },
    {
     "name": "stderr",
     "output_type": "stream",
     "text": [
      "                                                                          \r"
     ]
    },
    {
     "name": "stdout",
     "output_type": "stream",
     "text": [
      "Epoch 46 / 50 - Train/Test Loss : 0.2356 | 0.6394 - Train/Test Acc : 0.92 | 0.80\n"
     ]
    },
    {
     "name": "stderr",
     "output_type": "stream",
     "text": [
      "                                                                          \r"
     ]
    },
    {
     "name": "stdout",
     "output_type": "stream",
     "text": [
      "Epoch 47 / 50 - Train/Test Loss : 0.2310 | 0.6070 - Train/Test Acc : 0.92 | 0.81\n"
     ]
    },
    {
     "name": "stderr",
     "output_type": "stream",
     "text": [
      "                                                                          \r"
     ]
    },
    {
     "name": "stdout",
     "output_type": "stream",
     "text": [
      "Epoch 48 / 50 - Train/Test Loss : 0.2332 | 0.6822 - Train/Test Acc : 0.92 | 0.79\n"
     ]
    },
    {
     "name": "stderr",
     "output_type": "stream",
     "text": [
      "                                                                          \r"
     ]
    },
    {
     "name": "stdout",
     "output_type": "stream",
     "text": [
      "Epoch 49 / 50 - Train/Test Loss : 0.2242 | 0.6270 - Train/Test Acc : 0.92 | 0.80\n"
     ]
    },
    {
     "name": "stderr",
     "output_type": "stream",
     "text": [
      "                                                                          "
     ]
    },
    {
     "name": "stdout",
     "output_type": "stream",
     "text": [
      "Epoch 50 / 50 - Train/Test Loss : 0.2152 | 0.6155 - Train/Test Acc : 0.92 | 0.80\n"
     ]
    },
    {
     "name": "stderr",
     "output_type": "stream",
     "text": [
      "\r"
     ]
    }
   ],
   "source": [
    "train_loader = CIFAR10DataLoader(data_dir='../data', batch_size=batch_size, num_workers=n_workers).train()\n",
    "val_loader = CIFAR10DataLoader(data_dir='../data', batch_size=batch_size, num_workers=n_workers).val()\n",
    "train_losses, test_losses, train_accs, test_accs = run_experiment(net, n_epochs, train_loader, val_loader)"
   ]
  },
  {
   "cell_type": "markdown",
   "id": "2ee839a2",
   "metadata": {},
   "source": [
    "### MedMNIST\n",
    "\n",
    "We now run the exact same experiment to see if our basic CNN trained on CIFAR10 can reach the same level of accuracy on one multiclass medmnist dataset."
   ]
  },
  {
   "cell_type": "code",
   "execution_count": 224,
   "id": "a49472af",
   "metadata": {},
   "outputs": [],
   "source": [
    "n_epochs = 50\n",
    "batch_size = 64\n",
    "n_workers = 8\n",
    "img_size = 64\n",
    "n_classes = 11\n",
    "net = CNN(in_channels=1, out_channels=n_classes, base_channels=32, num_blocks=3, img_size=img_size)\n",
    "criterion = nn.CrossEntropyLoss()\n",
    "optimizer = torch.optim.Adam(net.parameters(), lr=0.001, weight_decay=1e-4)\n",
    "metric = Accuracy(task=\"multiclass\", num_classes=n_classes)\n",
    "scheduler = torch.optim.lr_scheduler.CosineAnnealingLR(optimizer, T_max=n_epochs)\n",
    "dataset_name = 'OrganSMNIST'\n",
    "\n",
    "net.classifier = nn.Sequential(\n",
    "    nn.Flatten(),\n",
    "    nn.Linear(net.flattened_dim, net.flattened_dim // 3, bias=False),\n",
    "    nn.ReLU(inplace=True),\n",
    "    nn.Dropout(0.2),\n",
    "    \n",
    "    nn.Linear(net.flattened_dim // 3, net.flattened_dim // 6, bias=False),\n",
    "    nn.ReLU(inplace=True),\n",
    "    nn.Dropout(0.2),\n",
    "    \n",
    "    nn.Linear(net.flattened_dim // 6, n_classes, bias=False),\n",
    ")\n",
    "\n",
    "net.to(device);"
   ]
  },
  {
   "cell_type": "code",
   "execution_count": 225,
   "id": "e9e5d291",
   "metadata": {},
   "outputs": [],
   "source": [
    "train_loader = MedMNISTDataloader(data_dir='../data', dataset_name=dataset_name, batch_size=batch_size, image_size=img_size, num_workers=n_workers, debug=False).train()\n",
    "val_loader = MedMNISTDataloader(data_dir='../data', dataset_name=dataset_name, batch_size=batch_size, image_size=img_size, num_workers=n_workers, debug=False).val()"
   ]
  },
  {
   "cell_type": "code",
   "execution_count": 226,
   "id": "596c63e4",
   "metadata": {},
   "outputs": [
    {
     "name": "stderr",
     "output_type": "stream",
     "text": [
      "                                                                         \r"
     ]
    },
    {
     "name": "stdout",
     "output_type": "stream",
     "text": [
      "Epoch 1 / 50 - Train/Test Loss : 1.8071 | 1.7250 - Train/Test Acc : 0.52 | 0.71\n"
     ]
    },
    {
     "name": "stderr",
     "output_type": "stream",
     "text": [
      "                                                                         \r"
     ]
    },
    {
     "ename": "KeyboardInterrupt",
     "evalue": "",
     "output_type": "error",
     "traceback": [
      "\u001b[0;31m---------------------------------------------------------------------------\u001b[0m",
      "\u001b[0;31mKeyboardInterrupt\u001b[0m                         Traceback (most recent call last)",
      "Cell \u001b[0;32mIn[226], line 1\u001b[0m\n\u001b[0;32m----> 1\u001b[0m train_losses, test_losses, train_accs, test_accs \u001b[38;5;241m=\u001b[39m \u001b[43mrun_experiment\u001b[49m\u001b[43m(\u001b[49m\u001b[43mnet\u001b[49m\u001b[43m,\u001b[49m\u001b[43m \u001b[49m\u001b[43mn_epochs\u001b[49m\u001b[43m,\u001b[49m\u001b[43m \u001b[49m\u001b[43mtrain_loader\u001b[49m\u001b[43m,\u001b[49m\u001b[43m \u001b[49m\u001b[43mval_loader\u001b[49m\u001b[43m)\u001b[49m\n",
      "Cell \u001b[0;32mIn[219], line 6\u001b[0m, in \u001b[0;36mrun_experiment\u001b[0;34m(net, n_epochs, train_loader, val_loader)\u001b[0m\n\u001b[1;32m      3\u001b[0m best_acc \u001b[38;5;241m=\u001b[39m \u001b[38;5;241m0.0\u001b[39m\n\u001b[1;32m      5\u001b[0m \u001b[38;5;28;01mfor\u001b[39;00m epoch \u001b[38;5;129;01min\u001b[39;00m \u001b[38;5;28mrange\u001b[39m(n_epochs):\n\u001b[0;32m----> 6\u001b[0m     train_loss, train_preds, train_targets \u001b[38;5;241m=\u001b[39m \u001b[43mtrain\u001b[49m\u001b[43m(\u001b[49m\u001b[43mnet\u001b[49m\u001b[43m,\u001b[49m\u001b[43m \u001b[49m\u001b[43mtrain_loader\u001b[49m\u001b[43m)\u001b[49m\n\u001b[1;32m      7\u001b[0m     test_loss, test_preds, test_targets \u001b[38;5;241m=\u001b[39m test(net, val_loader)\n\u001b[1;32m      8\u001b[0m     train_acc, test_acc \u001b[38;5;241m=\u001b[39m metric(train_preds\u001b[38;5;241m.\u001b[39margmax(dim\u001b[38;5;241m=\u001b[39m\u001b[38;5;241m1\u001b[39m)\u001b[38;5;241m.\u001b[39mcpu(), train_targets\u001b[38;5;241m.\u001b[39mcpu()), metric(test_preds\u001b[38;5;241m.\u001b[39margmax(dim\u001b[38;5;241m=\u001b[39m\u001b[38;5;241m1\u001b[39m)\u001b[38;5;241m.\u001b[39mcpu(), test_targets\u001b[38;5;241m.\u001b[39mcpu())\n",
      "Cell \u001b[0;32mIn[203], line 7\u001b[0m, in \u001b[0;36mtrain\u001b[0;34m(model, train_loader)\u001b[0m\n\u001b[1;32m      5\u001b[0m all_targets \u001b[38;5;241m=\u001b[39m []\n\u001b[1;32m      6\u001b[0m \u001b[38;5;28;01mwith\u001b[39;00m tqdm(train_loader, leave\u001b[38;5;241m=\u001b[39m\u001b[38;5;28;01mFalse\u001b[39;00m, desc\u001b[38;5;241m=\u001b[39m\u001b[38;5;124m\"\u001b[39m\u001b[38;5;124mRunning training phase\u001b[39m\u001b[38;5;124m\"\u001b[39m) \u001b[38;5;28;01mas\u001b[39;00m pbar:\n\u001b[0;32m----> 7\u001b[0m     \u001b[38;5;28;01mfor\u001b[39;00m sample \u001b[38;5;129;01min\u001b[39;00m train_loader:\n\u001b[1;32m      8\u001b[0m         data, targets \u001b[38;5;241m=\u001b[39m sample\n\u001b[1;32m      9\u001b[0m         data, targets \u001b[38;5;241m=\u001b[39m data\u001b[38;5;241m.\u001b[39mto(device), targets\u001b[38;5;241m.\u001b[39mto(device)\n",
      "File \u001b[0;32m~/anaconda3/envs/torch-env/lib/python3.10/site-packages/torch/utils/data/dataloader.py:708\u001b[0m, in \u001b[0;36m_BaseDataLoaderIter.__next__\u001b[0;34m(self)\u001b[0m\n\u001b[1;32m    705\u001b[0m \u001b[38;5;28;01mif\u001b[39;00m \u001b[38;5;28mself\u001b[39m\u001b[38;5;241m.\u001b[39m_sampler_iter \u001b[38;5;129;01mis\u001b[39;00m \u001b[38;5;28;01mNone\u001b[39;00m:\n\u001b[1;32m    706\u001b[0m     \u001b[38;5;66;03m# TODO(https://github.com/pytorch/pytorch/issues/76750)\u001b[39;00m\n\u001b[1;32m    707\u001b[0m     \u001b[38;5;28mself\u001b[39m\u001b[38;5;241m.\u001b[39m_reset()  \u001b[38;5;66;03m# type: ignore[call-arg]\u001b[39;00m\n\u001b[0;32m--> 708\u001b[0m data \u001b[38;5;241m=\u001b[39m \u001b[38;5;28;43mself\u001b[39;49m\u001b[38;5;241;43m.\u001b[39;49m\u001b[43m_next_data\u001b[49m\u001b[43m(\u001b[49m\u001b[43m)\u001b[49m\n\u001b[1;32m    709\u001b[0m \u001b[38;5;28mself\u001b[39m\u001b[38;5;241m.\u001b[39m_num_yielded \u001b[38;5;241m+\u001b[39m\u001b[38;5;241m=\u001b[39m \u001b[38;5;241m1\u001b[39m\n\u001b[1;32m    710\u001b[0m \u001b[38;5;28;01mif\u001b[39;00m (\n\u001b[1;32m    711\u001b[0m     \u001b[38;5;28mself\u001b[39m\u001b[38;5;241m.\u001b[39m_dataset_kind \u001b[38;5;241m==\u001b[39m _DatasetKind\u001b[38;5;241m.\u001b[39mIterable\n\u001b[1;32m    712\u001b[0m     \u001b[38;5;129;01mand\u001b[39;00m \u001b[38;5;28mself\u001b[39m\u001b[38;5;241m.\u001b[39m_IterableDataset_len_called \u001b[38;5;129;01mis\u001b[39;00m \u001b[38;5;129;01mnot\u001b[39;00m \u001b[38;5;28;01mNone\u001b[39;00m\n\u001b[1;32m    713\u001b[0m     \u001b[38;5;129;01mand\u001b[39;00m \u001b[38;5;28mself\u001b[39m\u001b[38;5;241m.\u001b[39m_num_yielded \u001b[38;5;241m>\u001b[39m \u001b[38;5;28mself\u001b[39m\u001b[38;5;241m.\u001b[39m_IterableDataset_len_called\n\u001b[1;32m    714\u001b[0m ):\n",
      "File \u001b[0;32m~/anaconda3/envs/torch-env/lib/python3.10/site-packages/torch/utils/data/dataloader.py:1446\u001b[0m, in \u001b[0;36m_MultiProcessingDataLoaderIter._next_data\u001b[0;34m(self)\u001b[0m\n\u001b[1;32m   1443\u001b[0m \u001b[38;5;28;01melse\u001b[39;00m:\n\u001b[1;32m   1444\u001b[0m     \u001b[38;5;66;03m# no valid `self._rcvd_idx` is found (i.e., didn't break)\u001b[39;00m\n\u001b[1;32m   1445\u001b[0m     \u001b[38;5;28;01mif\u001b[39;00m \u001b[38;5;129;01mnot\u001b[39;00m \u001b[38;5;28mself\u001b[39m\u001b[38;5;241m.\u001b[39m_persistent_workers:\n\u001b[0;32m-> 1446\u001b[0m         \u001b[38;5;28;43mself\u001b[39;49m\u001b[38;5;241;43m.\u001b[39;49m\u001b[43m_shutdown_workers\u001b[49m\u001b[43m(\u001b[49m\u001b[43m)\u001b[49m\n\u001b[1;32m   1447\u001b[0m     \u001b[38;5;28;01mraise\u001b[39;00m \u001b[38;5;167;01mStopIteration\u001b[39;00m\n\u001b[1;32m   1449\u001b[0m \u001b[38;5;66;03m# Now `self._rcvd_idx` is the batch index we want to fetch\u001b[39;00m\n\u001b[1;32m   1450\u001b[0m \n\u001b[1;32m   1451\u001b[0m \u001b[38;5;66;03m# Check if the next sample has already been generated\u001b[39;00m\n",
      "File \u001b[0;32m~/anaconda3/envs/torch-env/lib/python3.10/site-packages/torch/utils/data/dataloader.py:1582\u001b[0m, in \u001b[0;36m_MultiProcessingDataLoaderIter._shutdown_workers\u001b[0;34m(self)\u001b[0m\n\u001b[1;32m   1577\u001b[0m         \u001b[38;5;28mself\u001b[39m\u001b[38;5;241m.\u001b[39m_mark_worker_as_unavailable(worker_id, shutdown\u001b[38;5;241m=\u001b[39m\u001b[38;5;28;01mTrue\u001b[39;00m)\n\u001b[1;32m   1578\u001b[0m \u001b[38;5;28;01mfor\u001b[39;00m w \u001b[38;5;129;01min\u001b[39;00m \u001b[38;5;28mself\u001b[39m\u001b[38;5;241m.\u001b[39m_workers:\n\u001b[1;32m   1579\u001b[0m     \u001b[38;5;66;03m# We should be able to join here, but in case anything went\u001b[39;00m\n\u001b[1;32m   1580\u001b[0m     \u001b[38;5;66;03m# wrong, we set a timeout and if the workers fail to join,\u001b[39;00m\n\u001b[1;32m   1581\u001b[0m     \u001b[38;5;66;03m# they are killed in the `finally` block.\u001b[39;00m\n\u001b[0;32m-> 1582\u001b[0m     \u001b[43mw\u001b[49m\u001b[38;5;241;43m.\u001b[39;49m\u001b[43mjoin\u001b[49m\u001b[43m(\u001b[49m\u001b[43mtimeout\u001b[49m\u001b[38;5;241;43m=\u001b[39;49m\u001b[43m_utils\u001b[49m\u001b[38;5;241;43m.\u001b[39;49m\u001b[43mMP_STATUS_CHECK_INTERVAL\u001b[49m\u001b[43m)\u001b[49m\n\u001b[1;32m   1583\u001b[0m \u001b[38;5;28;01mfor\u001b[39;00m q \u001b[38;5;129;01min\u001b[39;00m \u001b[38;5;28mself\u001b[39m\u001b[38;5;241m.\u001b[39m_index_queues:\n\u001b[1;32m   1584\u001b[0m     q\u001b[38;5;241m.\u001b[39mcancel_join_thread()\n",
      "File \u001b[0;32m~/anaconda3/envs/torch-env/lib/python3.10/multiprocessing/process.py:149\u001b[0m, in \u001b[0;36mBaseProcess.join\u001b[0;34m(self, timeout)\u001b[0m\n\u001b[1;32m    147\u001b[0m \u001b[38;5;28;01massert\u001b[39;00m \u001b[38;5;28mself\u001b[39m\u001b[38;5;241m.\u001b[39m_parent_pid \u001b[38;5;241m==\u001b[39m os\u001b[38;5;241m.\u001b[39mgetpid(), \u001b[38;5;124m'\u001b[39m\u001b[38;5;124mcan only join a child process\u001b[39m\u001b[38;5;124m'\u001b[39m\n\u001b[1;32m    148\u001b[0m \u001b[38;5;28;01massert\u001b[39;00m \u001b[38;5;28mself\u001b[39m\u001b[38;5;241m.\u001b[39m_popen \u001b[38;5;129;01mis\u001b[39;00m \u001b[38;5;129;01mnot\u001b[39;00m \u001b[38;5;28;01mNone\u001b[39;00m, \u001b[38;5;124m'\u001b[39m\u001b[38;5;124mcan only join a started process\u001b[39m\u001b[38;5;124m'\u001b[39m\n\u001b[0;32m--> 149\u001b[0m res \u001b[38;5;241m=\u001b[39m \u001b[38;5;28;43mself\u001b[39;49m\u001b[38;5;241;43m.\u001b[39;49m\u001b[43m_popen\u001b[49m\u001b[38;5;241;43m.\u001b[39;49m\u001b[43mwait\u001b[49m\u001b[43m(\u001b[49m\u001b[43mtimeout\u001b[49m\u001b[43m)\u001b[49m\n\u001b[1;32m    150\u001b[0m \u001b[38;5;28;01mif\u001b[39;00m res \u001b[38;5;129;01mis\u001b[39;00m \u001b[38;5;129;01mnot\u001b[39;00m \u001b[38;5;28;01mNone\u001b[39;00m:\n\u001b[1;32m    151\u001b[0m     _children\u001b[38;5;241m.\u001b[39mdiscard(\u001b[38;5;28mself\u001b[39m)\n",
      "File \u001b[0;32m~/anaconda3/envs/torch-env/lib/python3.10/multiprocessing/popen_fork.py:40\u001b[0m, in \u001b[0;36mPopen.wait\u001b[0;34m(self, timeout)\u001b[0m\n\u001b[1;32m     38\u001b[0m \u001b[38;5;28;01mif\u001b[39;00m timeout \u001b[38;5;129;01mis\u001b[39;00m \u001b[38;5;129;01mnot\u001b[39;00m \u001b[38;5;28;01mNone\u001b[39;00m:\n\u001b[1;32m     39\u001b[0m     \u001b[38;5;28;01mfrom\u001b[39;00m \u001b[38;5;21;01mmultiprocessing\u001b[39;00m\u001b[38;5;21;01m.\u001b[39;00m\u001b[38;5;21;01mconnection\u001b[39;00m \u001b[38;5;28;01mimport\u001b[39;00m wait\n\u001b[0;32m---> 40\u001b[0m     \u001b[38;5;28;01mif\u001b[39;00m \u001b[38;5;129;01mnot\u001b[39;00m \u001b[43mwait\u001b[49m\u001b[43m(\u001b[49m\u001b[43m[\u001b[49m\u001b[38;5;28;43mself\u001b[39;49m\u001b[38;5;241;43m.\u001b[39;49m\u001b[43msentinel\u001b[49m\u001b[43m]\u001b[49m\u001b[43m,\u001b[49m\u001b[43m \u001b[49m\u001b[43mtimeout\u001b[49m\u001b[43m)\u001b[49m:\n\u001b[1;32m     41\u001b[0m         \u001b[38;5;28;01mreturn\u001b[39;00m \u001b[38;5;28;01mNone\u001b[39;00m\n\u001b[1;32m     42\u001b[0m \u001b[38;5;66;03m# This shouldn't block if wait() returned successfully.\u001b[39;00m\n",
      "File \u001b[0;32m~/anaconda3/envs/torch-env/lib/python3.10/multiprocessing/connection.py:936\u001b[0m, in \u001b[0;36mwait\u001b[0;34m(object_list, timeout)\u001b[0m\n\u001b[1;32m    933\u001b[0m     deadline \u001b[38;5;241m=\u001b[39m time\u001b[38;5;241m.\u001b[39mmonotonic() \u001b[38;5;241m+\u001b[39m timeout\n\u001b[1;32m    935\u001b[0m \u001b[38;5;28;01mwhile\u001b[39;00m \u001b[38;5;28;01mTrue\u001b[39;00m:\n\u001b[0;32m--> 936\u001b[0m     ready \u001b[38;5;241m=\u001b[39m \u001b[43mselector\u001b[49m\u001b[38;5;241;43m.\u001b[39;49m\u001b[43mselect\u001b[49m\u001b[43m(\u001b[49m\u001b[43mtimeout\u001b[49m\u001b[43m)\u001b[49m\n\u001b[1;32m    937\u001b[0m     \u001b[38;5;28;01mif\u001b[39;00m ready:\n\u001b[1;32m    938\u001b[0m         \u001b[38;5;28;01mreturn\u001b[39;00m [key\u001b[38;5;241m.\u001b[39mfileobj \u001b[38;5;28;01mfor\u001b[39;00m (key, events) \u001b[38;5;129;01min\u001b[39;00m ready]\n",
      "File \u001b[0;32m~/anaconda3/envs/torch-env/lib/python3.10/selectors.py:416\u001b[0m, in \u001b[0;36m_PollLikeSelector.select\u001b[0;34m(self, timeout)\u001b[0m\n\u001b[1;32m    414\u001b[0m ready \u001b[38;5;241m=\u001b[39m []\n\u001b[1;32m    415\u001b[0m \u001b[38;5;28;01mtry\u001b[39;00m:\n\u001b[0;32m--> 416\u001b[0m     fd_event_list \u001b[38;5;241m=\u001b[39m \u001b[38;5;28;43mself\u001b[39;49m\u001b[38;5;241;43m.\u001b[39;49m\u001b[43m_selector\u001b[49m\u001b[38;5;241;43m.\u001b[39;49m\u001b[43mpoll\u001b[49m\u001b[43m(\u001b[49m\u001b[43mtimeout\u001b[49m\u001b[43m)\u001b[49m\n\u001b[1;32m    417\u001b[0m \u001b[38;5;28;01mexcept\u001b[39;00m \u001b[38;5;167;01mInterruptedError\u001b[39;00m:\n\u001b[1;32m    418\u001b[0m     \u001b[38;5;28;01mreturn\u001b[39;00m ready\n",
      "\u001b[0;31mKeyboardInterrupt\u001b[0m: "
     ]
    }
   ],
   "source": [
    "train_losses, test_losses, train_accs, test_accs = run_experiment(net, n_epochs, train_loader, val_loader)"
   ]
  },
  {
   "cell_type": "code",
   "execution_count": 223,
   "id": "46fdf37b",
   "metadata": {},
   "outputs": [
    {
     "data": {
      "image/png": "[encoded data removed]",
      "text/plain": [
       "<Figure size 1000x500 with 1 Axes>"
      ]
     },
     "metadata": {},
     "output_type": "display_data"
    }
   ],
   "source": [
    "plot_results(train_accs, test_accs)"
   ]
  },
  {
   "cell_type": "code",
   "execution_count": null,
   "id": "1388ab1e",
   "metadata": {},
   "outputs": [],
   "source": []
  }
 ],
 "metadata": {
  "kernelspec": {
   "display_name": "torch-env",
   "language": "python",
   "name": "python3"
  },
  "language_info": {
   "codemirror_mode": {
    "name": "ipython",
    "version": 3
   },
   "file_extension": ".py",
   "mimetype": "text/x-python",
   "name": "python",
   "nbconvert_exporter": "python",
   "pygments_lexer": "ipython3",
   "version": "3.10.4"
  }
 },
 "nbformat": 4,
 "nbformat_minor": 5
}
