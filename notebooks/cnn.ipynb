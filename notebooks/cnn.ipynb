{
 "cells": [
  {
   "cell_type": "markdown",
   "id": "198aba1e",
   "metadata": {},
   "source": [
    "# Basic CNN for MedMNIST Classification\n",
    "\n",
    "In this notebook, we provide a simple convolutional neural network (CNN) architecture tailored for MedMNIST, a lightweight medical image classification benchmark. The dataset offers a diverse range of biomedical images with varying modalities and tasks, making it suitable for quick prototyping and benchmarking.\n",
    "\n",
    "The goal of the notebook is to train, evaluate the model but also use it as a base to build a C-SNN (Convolutional Spiking Neural Network). We first establish a baseline CNN to understand the data distribution, learning behavior, and classification performance in a conventional setting. Once the CNN is trained and evaluated, we will extend this architecture into a spiking version using SpikingJelly, enabling bio-inspired temporal processing and energy-efficient inference on neuromorphic hardware."
   ]
  },
  {
   "cell_type": "markdown",
   "id": "3a8732a6",
   "metadata": {},
   "source": [
    "## Imports & Variables"
   ]
  },
  {
   "cell_type": "code",
   "execution_count": 2,
   "id": "b6921677",
   "metadata": {},
   "outputs": [
    {
     "name": "stdout",
     "output_type": "stream",
     "text": [
      "Using device: cuda\n"
     ]
    }
   ],
   "source": [
    "import sys\n",
    "sys.path.insert(0, '..')\n",
    "from torchsummary import summary\n",
    "import torch.nn as nn\n",
    "import torch\n",
    "import matplotlib.pyplot as plt\n",
    "import numpy as np\n",
    "from src.utils.config import instanciate_module\n",
    "from torch.utils.data import DataLoader, Dataset, WeightedRandomSampler, Subset\n",
    "from torchvision.transforms import ToTensor, Normalize, Compose\n",
    "from torchvision.datasets import CIFAR10\n",
    "from src.utils.device import get_available_device\n",
    "from tqdm import tqdm\n",
    "\n",
    "device = get_available_device()\n",
    "print(f'Using device:', device)"
   ]
  },
  {
   "cell_type": "markdown",
   "id": "b12a1156",
   "metadata": {},
   "source": [
    "## Neural Network Architecture"
   ]
  },
  {
   "cell_type": "code",
   "execution_count": null,
   "id": "e02b60d5",
   "metadata": {},
   "outputs": [],
   "source": [
    "class ConvBlock(nn.Module):\n",
    "    def __init__(self, in_channels: int, out_channels: int, kernel_size: int = 3, padding: int = 1):\n",
    "        super().__init__()\n",
    "        self.block = nn.Sequential(\n",
    "            nn.Conv2d(in_channels, out_channels,\n",
    "                      kernel_size=kernel_size, padding=padding, bias=False),\n",
    "            nn.ReLU(inplace=True),\n",
    "            nn.InstanceNorm2d(out_channels),\n",
    "            nn.MaxPool2d(2, 2),\n",
    "        )\n",
    "\n",
    "    def forward(self, x):\n",
    "        return self.block(x)\n",
    "\n",
    "class CNN(nn.Module):\n",
    "    def __init__(self, in_channels: int = 1, out_channels: int = 2, img_size: int = 128):\n",
    "        super().__init__()\n",
    "\n",
    "        self.net = nn.Sequential(\n",
    "            ConvBlock(in_channels, 32, 3, 1),\n",
    "            ConvBlock(32, 64, 3, 1),\n",
    "            ConvBlock(64, 128, 3, 1),\n",
    "        )\n",
    "\n",
    "        self.flattened_dim = self._get_flattened_shape((in_channels, img_size, img_size))\n",
    "\n",
    "        self.classifier = nn.Sequential(\n",
    "            nn.Flatten(),\n",
    "            nn.Linear(self.flattened_dim, self.flattened_dim//3, bias=False),\n",
    "            nn.ReLU(inplace=True),\n",
    "            nn.Linear(self.flattened_dim//3,\n",
    "                      self.flattened_dim//5, bias=False),\n",
    "            nn.ReLU(inplace=True),\n",
    "            nn.Linear(self.flattened_dim//5, out_channels, bias=False),\n",
    "        )\n",
    "\n",
    "    def _get_flattened_shape(self, input_shape):\n",
    "        with torch.no_grad():\n",
    "            dummy = torch.zeros(*input_shape)\n",
    "            dummy = self.net(dummy)\n",
    "            shape = dummy.shape[-3] * dummy.shape[-2] * dummy.shape[-1]\n",
    "        return shape\n",
    "\n",
    "    def forward(self, x):\n",
    "        x = self.net(x)\n",
    "        x = self.classifier(x)\n",
    "        return x\n"
   ]
  },
  {
   "cell_type": "code",
   "execution_count": 4,
   "id": "efdfb0eb",
   "metadata": {},
   "outputs": [
    {
     "name": "stdout",
     "output_type": "stream",
     "text": [
      "----------------------------------------------------------------\n",
      "        Layer (type)               Output Shape         Param #\n",
      "================================================================\n",
      "            Conv2d-1            [-1, 6, 26, 26]             450\n",
      "              ReLU-2            [-1, 6, 26, 26]               0\n",
      "    InstanceNorm2d-3            [-1, 6, 26, 26]               0\n",
      "         MaxPool2d-4            [-1, 6, 13, 13]               0\n",
      "         ConvBlock-5            [-1, 6, 13, 13]               0\n",
      "            Conv2d-6           [-1, 16, 11, 11]           2,400\n",
      "              ReLU-7           [-1, 16, 11, 11]               0\n",
      "    InstanceNorm2d-8           [-1, 16, 11, 11]               0\n",
      "         MaxPool2d-9             [-1, 16, 5, 5]               0\n",
      "        ConvBlock-10             [-1, 16, 5, 5]               0\n",
      "          Flatten-11                  [-1, 400]               0\n",
      "           Linear-12                  [-1, 133]          53,200\n",
      "             ReLU-13                  [-1, 133]               0\n",
      "           Linear-14                   [-1, 80]          10,640\n",
      "             ReLU-15                   [-1, 80]               0\n",
      "           Linear-16                   [-1, 10]             800\n",
      "================================================================\n",
      "Total params: 67,490\n",
      "Trainable params: 67,490\n",
      "Non-trainable params: 0\n",
      "----------------------------------------------------------------\n",
      "Input size (MB): 0.01\n",
      "Forward/backward pass size (MB): 0.17\n",
      "Params size (MB): 0.26\n",
      "Estimated Total Size (MB): 0.43\n",
      "----------------------------------------------------------------\n"
     ]
    }
   ],
   "source": [
    "model = CNN(in_channels=3, out_channels=10, img_size=28)\n",
    "summary(model, (3, 28, 28), device='cpu')"
   ]
  },
  {
   "cell_type": "markdown",
   "id": "ef0c8b21",
   "metadata": {},
   "source": [
    "## Datasets & Dataloaders\n",
    "\n",
    "In this section, we prepare the datasets and dataloaders required for training and evaluation.\n",
    "\n",
    "We begin by creating a PyTorch CIFAR10 dataset using ```torchvision.datasets```. This serves as a benchmark dataset to pretrain and test our baseline CNN. **CIFAR10** is widely used in the computer vision community, which allows us to compare the performance of our model against established CNN architectures and training routines. By starting with CIFAR10, we ensure that the CNN is functioning properly before moving to more domain-specific datasets.\n",
    "\n",
    "Next, we set up the **MedMNIST** dataset using the ```medmnist``` library, which provides a unified interface for multiple lightweight biomedical image classification tasks. We wrap the MedMNIST dataset into a PyTorch-compatible format, applying appropriate transforms to standardize the data and match the input requirements of our model. This global MedMNIST dataset will be used to fine-tune or retrain our model after the initial evaluation on CIFAR10, and eventually transition to a spiking version of the network for biomedical applications.\n",
    "\n",
    "### CIFAR10"
   ]
  },
  {
   "cell_type": "code",
   "execution_count": 5,
   "id": "5013172f",
   "metadata": {},
   "outputs": [],
   "source": [
    "class CIFAR10DataLoader(object):\n",
    "    def __init__(self,\n",
    "                 data_dir: str,\n",
    "                 batch_size: int = 4,\n",
    "                 num_workers: int = 4):\n",
    "\n",
    "        super(CIFAR10DataLoader, self).__init__()\n",
    "        self.data_dir = data_dir\n",
    "        self.batch_size = batch_size\n",
    "        self.num_workers = num_workers\n",
    "\n",
    "        self.transform = Compose([\n",
    "            ToTensor(),\n",
    "            Normalize((0.5, 0.5, 0.5), (0.5, 0.5, 0.5))\n",
    "        ])\n",
    "\n",
    "    def train(self):\n",
    "        train_dataset = CIFAR10(\n",
    "            root=self.data_dir,\n",
    "            train=True,\n",
    "            transform=self.transform,\n",
    "            download=True\n",
    "        )\n",
    "\n",
    "        dataloader = DataLoader(train_dataset,\n",
    "                                batch_size=self.batch_size,\n",
    "                                num_workers=self.num_workers,\n",
    "                                shuffle=True,\n",
    "                                pin_memory=True)\n",
    "        return dataloader\n",
    "\n",
    "    def val(self):\n",
    "        val_dataset = CIFAR10(\n",
    "            root=self.data_dir,\n",
    "            train=False,\n",
    "            transform=self.transform,\n",
    "            download=True\n",
    "        )\n",
    "\n",
    "        dataloader = DataLoader(val_dataset,\n",
    "                                batch_size=self.batch_size,\n",
    "                                num_workers=self.num_workers,\n",
    "                                shuffle=False,\n",
    "                                pin_memory=True)\n",
    "        return dataloader\n",
    "\n",
    "    def test(self):\n",
    "        return self.val()\n",
    "\n",
    "x, y = next(iter(CIFAR10DataLoader(data_dir='../data').train()))"
   ]
  },
  {
   "cell_type": "code",
   "execution_count": 6,
   "id": "4d0a697e",
   "metadata": {},
   "outputs": [
    {
     "data": {
      "image/png": "[encoded data removed]",
      "text/plain": [
       "<Figure size 640x480 with 1 Axes>"
      ]
     },
     "metadata": {},
     "output_type": "display_data"
    }
   ],
   "source": [
    "img = x[0].permute(1, 2, 0).numpy()\n",
    "img = (img - img.min()) / (img.max() - img.min())\n",
    "\n",
    "plt.imshow(img)\n",
    "plt.axis('off')\n",
    "plt.title(f'Label: {y[0]}')\n",
    "plt.show()"
   ]
  },
  {
   "cell_type": "markdown",
   "id": "b2cd31ae",
   "metadata": {},
   "source": [
    "### MedMNIST\n",
    "\n",
    "We first implement a global dataset class that will allow us to load any dataset in the medmnist library."
   ]
  },
  {
   "cell_type": "code",
   "execution_count": 7,
   "id": "241e4322",
   "metadata": {},
   "outputs": [],
   "source": [
    "class MedMNISTDataset(Dataset):\n",
    "    \"\"\"\n",
    "    PyTorch Dataset wrapper for MedMNIST datasets using dynamic instantiation.\n",
    "    \"\"\"\n",
    "\n",
    "    def __init__(\n",
    "        self,\n",
    "        data_dir: str,\n",
    "        dataset_name: str = 'BreastMNIST',\n",
    "        image_size: int = 128,\n",
    "        split: str = 'train',\n",
    "        transform=None\n",
    "    ):\n",
    "        self.transform = transform or Compose([\n",
    "            ToTensor(),\n",
    "            Normalize((0,), (1,))\n",
    "        ])\n",
    "\n",
    "        self.dataset = instanciate_module(\n",
    "            module_name='medmnist',\n",
    "            class_name=dataset_name,\n",
    "            params={\n",
    "                \"root\": data_dir,\n",
    "                \"download\": True,\n",
    "                \"transform\": self.transform,\n",
    "                \"size\": image_size,\n",
    "                \"split\": split,\n",
    "            }\n",
    "        )\n",
    "\n",
    "    def __len__(self) -> int:\n",
    "        return len(self.dataset)\n",
    "\n",
    "    def __getitem__(self, idx: int):\n",
    "        x, y = self.dataset[idx]\n",
    "        return x, y.squeeze(0)"
   ]
  },
  {
   "cell_type": "markdown",
   "id": "54181751",
   "metadata": {},
   "source": [
    "We then create a dataloader object to load these datasets. Note that a random weighted sampler is used for the training split of each dataset to avoid imbalance and biases during training."
   ]
  },
  {
   "cell_type": "code",
   "execution_count": 8,
   "id": "f4df3b27",
   "metadata": {},
   "outputs": [],
   "source": [
    "class MedMNISTDataloader(object):\n",
    "    def __init__(self,\n",
    "                 data_dir: str,\n",
    "                 dataset_name: str = 'BreastMNIST',\n",
    "                 batch_size: int = 4,\n",
    "                 num_workers: int = 4,\n",
    "                 image_size: int = 128,\n",
    "                 debug: bool = True):\n",
    "\n",
    "        super(MedMNISTDataloader, self).__init__()\n",
    "        self.data_dir = data_dir\n",
    "        self.dataset_name = dataset_name\n",
    "        self.debug = debug\n",
    "        self.batch_size = batch_size\n",
    "        self.num_workers = num_workers\n",
    "        self.image_size = image_size\n",
    "\n",
    "    def _create_random_sampler(self, dataset):\n",
    "        labels = np.array([label for _, label in dataset])\n",
    "        if labels.ndim > 1:\n",
    "            labels = labels.flatten()\n",
    "        labels = torch.tensor(labels, dtype=torch.int64)\n",
    "        class_counts = torch.bincount(labels)\n",
    "        class_weights = 1.0 / class_counts.float()\n",
    "        sampler_weights = [class_weights[label] for _, label in dataset]\n",
    "        sampler = WeightedRandomSampler(\n",
    "            weights=sampler_weights, num_samples=len(dataset), replacement=True)\n",
    "        return sampler\n",
    "\n",
    "    \n",
    "    def train(self):\n",
    "        train_dataset = MedMNISTDataset(\n",
    "            self.data_dir,\n",
    "            self.dataset_name,\n",
    "            self.image_size,\n",
    "            split=\"train\"\n",
    "        )\n",
    "\n",
    "        if self.debug:\n",
    "            train_dataset = Subset(\n",
    "                train_dataset, range(self.batch_size * 1000))\n",
    "\n",
    "        random_sampler = self._create_random_sampler(train_dataset)\n",
    "\n",
    "        return DataLoader(train_dataset, sampler=random_sampler, batch_size=self.batch_size, num_workers=self.num_workers, pin_memory=True if torch.cuda.is_available() else False)\n",
    "\n",
    "    def val(self):\n",
    "        val_dataset = MedMNISTDataset(\n",
    "            self.data_dir,\n",
    "            self.dataset_name,\n",
    "            self.image_size,\n",
    "            split=\"val\"\n",
    "        )\n",
    "        if self.debug:\n",
    "            val_dataset = Subset(val_dataset, range(self.batch_size * 2))\n",
    "\n",
    "        return DataLoader(val_dataset, batch_size=self.batch_size, num_workers=self.num_workers, pin_memory=True if torch.cuda.is_available() else False)\n",
    "\n",
    "    def test(self):\n",
    "        test_dataset = MedMNISTDataset(\n",
    "            self.data_dir,\n",
    "            self.dataset_name,\n",
    "            self.image_size,\n",
    "            split=\"test\"\n",
    "        )\n",
    "        if self.debug:\n",
    "            test_dataset = Subset(test_dataset, range(self.batch_size * 2))\n",
    "\n",
    "        return DataLoader(test_dataset, batch_size=self.batch_size, num_workers=self.num_workers, pin_memory=True if torch.cuda.is_available() else False)"
   ]
  },
  {
   "cell_type": "code",
   "execution_count": 9,
   "id": "d16e41bc",
   "metadata": {},
   "outputs": [
    {
     "data": {
      "image/png": "[encoded data removed]",
      "text/plain": [
       "<Figure size 640x480 with 1 Axes>"
      ]
     },
     "metadata": {},
     "output_type": "display_data"
    }
   ],
   "source": [
    "x, y = next(iter(MedMNISTDataloader(data_dir='../data', dataset_name='TissueMNIST', image_size=28).train()))\n",
    "img = x[0].permute(1, 2, 0).numpy()\n",
    "img = (img - img.min()) / (img.max() - img.min())\n",
    "\n",
    "plt.imshow(img)\n",
    "plt.axis('off')\n",
    "plt.title(f'Label: {y[0]}')\n",
    "plt.show()"
   ]
  },
  {
   "cell_type": "markdown",
   "id": "e0dc3ce6",
   "metadata": {},
   "source": [
    "## Training the CNN\n",
    "\n",
    "Here, we define a standard training and evaluation loop. The loop includes both the forward and backward passes, loss computation, weight updates via backpropagation, and performance tracking in terms of accuracy and loss.\n",
    "\n",
    "### CIFAR10\n",
    "\n",
    "For the CIFAR10 example, we use the Adam optimizer and a CrossEntropyLoss function."
   ]
  },
  {
   "cell_type": "code",
   "execution_count": 17,
   "id": "6b308893",
   "metadata": {},
   "outputs": [],
   "source": [
    "n_epochs = 10\n",
    "batch_size = 32\n",
    "n_workers = 4\n",
    "net = CNN(in_channels=3, out_channels=10, img_size=32)\n",
    "net.to(device);\n",
    "criterion = nn.CrossEntropyLoss()\n",
    "optimizer = torch.optim.Adam(net.parameters(), lr=0.001)\n",
    "\n",
    "def train(model, train_loader):\n",
    "    model.train()\n",
    "    train_loss = 0.0\n",
    "    all_preds = []\n",
    "    all_targets = []\n",
    "    with tqdm(train_loader, leave=False, desc=\"Running training phase\") as pbar:\n",
    "        for sample in train_loader:\n",
    "            data, targets = sample\n",
    "            data, targets = data.to(device), targets.to(device)\n",
    "            optimizer.zero_grad()\n",
    "            outputs = model(data)\n",
    "            loss = criterion(outputs, targets)\n",
    "            loss.backward()\n",
    "            optimizer.step()\n",
    "            train_loss += loss.item()\n",
    "            all_preds.append(outputs)\n",
    "            all_targets.append(targets)\n",
    "            pbar.update(1)\n",
    "    all_targets = torch.cat(all_targets)\n",
    "    all_preds = torch.cat(all_preds)\n",
    "    train_loss /= len(train_loader)\n",
    "    return train_loss, all_preds, all_targets\n",
    "\n",
    "def test(model, val_loader):\n",
    "    model.eval()\n",
    "    test_loss = 0.0\n",
    "    all_preds = []\n",
    "    all_targets = []\n",
    "    with torch.no_grad():\n",
    "        with tqdm(val_loader, leave=False, desc=\"Running testing phase\") as pbar:\n",
    "            for _, sample in enumerate(val_loader):\n",
    "                data, targets = sample\n",
    "                data, targets = data.to(\n",
    "                    device), targets.to(device)\n",
    "                outputs = model(data)\n",
    "                loss = criterion(outputs, targets)\n",
    "                test_loss += loss.item()\n",
    "                all_preds.append(outputs)\n",
    "                all_targets.append(targets)\n",
    "                pbar.update(1)\n",
    "\n",
    "    all_targets = torch.cat(all_targets)\n",
    "    all_preds = torch.cat(all_preds)\n",
    "    test_loss /= len(val_loader)\n",
    "    return test_loss, all_preds, all_targets"
   ]
  },
  {
   "cell_type": "code",
   "execution_count": 18,
   "id": "e406de1f",
   "metadata": {},
   "outputs": [
    {
     "name": "stderr",
     "output_type": "stream",
     "text": [
      "                                                                             \r"
     ]
    },
    {
     "name": "stdout",
     "output_type": "stream",
     "text": [
      "Epoch 1 / 10 - Train/Test Loss : 1.4987 | 1.2868 - Train/Test Acc : 0.46 | 0.54\n"
     ]
    },
    {
     "name": "stderr",
     "output_type": "stream",
     "text": [
      "                                                                            \r"
     ]
    },
    {
     "name": "stdout",
     "output_type": "stream",
     "text": [
      "Epoch 2 / 10 - Train/Test Loss : 1.1944 | 1.1789 - Train/Test Acc : 0.58 | 0.58\n"
     ]
    },
    {
     "name": "stderr",
     "output_type": "stream",
     "text": [
      "                                                                            \r"
     ]
    },
    {
     "name": "stdout",
     "output_type": "stream",
     "text": [
      "Epoch 3 / 10 - Train/Test Loss : 1.0408 | 1.1456 - Train/Test Acc : 0.63 | 0.60\n"
     ]
    },
    {
     "name": "stderr",
     "output_type": "stream",
     "text": [
      "                                                                             \r"
     ]
    },
    {
     "name": "stdout",
     "output_type": "stream",
     "text": [
      "Epoch 4 / 10 - Train/Test Loss : 0.9249 | 1.1455 - Train/Test Acc : 0.68 | 0.60\n"
     ]
    },
    {
     "name": "stderr",
     "output_type": "stream",
     "text": [
      "                                                                            \r"
     ]
    },
    {
     "name": "stdout",
     "output_type": "stream",
     "text": [
      "Epoch 5 / 10 - Train/Test Loss : 0.8226 | 1.1933 - Train/Test Acc : 0.71 | 0.60\n"
     ]
    },
    {
     "name": "stderr",
     "output_type": "stream",
     "text": [
      "                                                                            \r"
     ]
    },
    {
     "name": "stdout",
     "output_type": "stream",
     "text": [
      "Epoch 6 / 10 - Train/Test Loss : 0.7302 | 1.1707 - Train/Test Acc : 0.74 | 0.62\n"
     ]
    },
    {
     "name": "stderr",
     "output_type": "stream",
     "text": [
      "                                                                            \r"
     ]
    },
    {
     "name": "stdout",
     "output_type": "stream",
     "text": [
      "Epoch 7 / 10 - Train/Test Loss : 0.6471 | 1.2483 - Train/Test Acc : 0.77 | 0.61\n"
     ]
    },
    {
     "name": "stderr",
     "output_type": "stream",
     "text": [
      "                                                                            \r"
     ]
    },
    {
     "name": "stdout",
     "output_type": "stream",
     "text": [
      "Epoch 8 / 10 - Train/Test Loss : 0.5766 | 1.3212 - Train/Test Acc : 0.80 | 0.60\n"
     ]
    },
    {
     "name": "stderr",
     "output_type": "stream",
     "text": [
      "                                                                            \r"
     ]
    },
    {
     "name": "stdout",
     "output_type": "stream",
     "text": [
      "Epoch 9 / 10 - Train/Test Loss : 0.5094 | 1.4188 - Train/Test Acc : 0.82 | 0.60\n"
     ]
    },
    {
     "name": "stderr",
     "output_type": "stream",
     "text": [
      "                                                                            "
     ]
    },
    {
     "name": "stdout",
     "output_type": "stream",
     "text": [
      "Epoch 10 / 10 - Train/Test Loss : 0.4474 | 1.5080 - Train/Test Acc : 0.84 | 0.60\n"
     ]
    },
    {
     "name": "stderr",
     "output_type": "stream",
     "text": [
      "\r"
     ]
    }
   ],
   "source": [
    "train_losses, test_losses, train_accs, test_accs = [], [], [], []\n",
    "\n",
    "for epoch in range(n_epochs):\n",
    "    train_loss, train_preds, train_targets = train(net, CIFAR10DataLoader(data_dir='../data', batch_size=batch_size, num_workers=n_workers).train())\n",
    "    test_loss, test_preds, test_targets = test(net, CIFAR10DataLoader(data_dir='../data', batch_size=batch_size, num_workers=n_workers).val())\n",
    "    \n",
    "    train_losses.append(train_loss)\n",
    "    test_losses.append(test_loss)\n",
    "    train_acc = (train_preds.argmax(dim=1) ==\n",
    "                        train_targets).float().mean().item()\n",
    "    test_acc = (test_preds.argmax(dim=1) ==\n",
    "                        test_targets).float().mean().item()\n",
    "    train_accs.append(train_acc)\n",
    "    test_accs.append(test_acc)\n",
    "    print(f\"Epoch {epoch + 1} / {n_epochs} - Train/Test Loss : {train_loss:.4f} | {test_loss:.4f} - Train/Test Acc : {train_acc:.2f} | {test_acc:.2f}\")"
   ]
  },
  {
   "cell_type": "code",
   "execution_count": 20,
   "id": "c75f917a",
   "metadata": {},
   "outputs": [
    {
     "data": {
      "image/png": "[encoded data removed]",
      "text/plain": [
       "<Figure size 1000x500 with 1 Axes>"
      ]
     },
     "metadata": {},
     "output_type": "display_data"
    }
   ],
   "source": [
    "plt.figure(figsize=(10, 5))\n",
    "plt.plot(train_accs, label='Train Accuracy', marker='o')\n",
    "plt.plot(test_accs, label='Test Accuracy', marker='s')\n",
    "\n",
    "plt.title('Train vs Test Accuracy over Epochs')\n",
    "plt.xlabel('Epoch')\n",
    "plt.ylabel('Accuracy')\n",
    "plt.ylim(0, 1)\n",
    "plt.legend()\n",
    "plt.tight_layout()\n",
    "plt.show()"
   ]
  },
  {
   "cell_type": "code",
   "execution_count": null,
   "id": "a49472af",
   "metadata": {},
   "outputs": [],
   "source": []
  }
 ],
 "metadata": {
  "kernelspec": {
   "display_name": "torch-env",
   "language": "python",
   "name": "python3"
  },
  "language_info": {
   "codemirror_mode": {
    "name": "ipython",
    "version": 3
   },
   "file_extension": ".py",
   "mimetype": "text/x-python",
   "name": "python",
   "nbconvert_exporter": "python",
   "pygments_lexer": "ipython3",
   "version": "3.10.4"
  }
 },
 "nbformat": 4,
 "nbformat_minor": 5
}
